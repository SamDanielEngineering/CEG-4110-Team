{
 "cells": [
  {
   "cell_type": "markdown",
   "metadata": {},
   "source": [
    "## Hidepy\n",
    "Python library for hiding data by inserting the data into an image using LSB-Stenography."
   ]
  },
  {
   "cell_type": "markdown",
   "metadata": {},
   "source": [
    "### Imports"
   ]
  },
  {
   "cell_type": "code",
   "execution_count": 10,
   "metadata": {},
   "outputs": [],
   "source": [
    "import math\n",
    "import numpy as np"
   ]
  },
  {
   "cell_type": "markdown",
   "metadata": {},
   "source": [
    "### Process Data"
   ]
  },
  {
   "cell_type": "markdown",
   "metadata": {},
   "source": [
    "#### Encode Data to 8 bit int array\n",
    "The 8 bit array stores data in the least significant bit (LSB), meaning any other bits are not used.\n",
    "This is for simplicity but for larger amounts of data hiding, this could be very slow. \n",
    "__May want to use bitarray lib if too slow__\n",
    "\n",
    "#### 8-bit in array => bitArray"
   ]
  },
  {
   "cell_type": "code",
   "execution_count": 11,
   "metadata": {},
   "outputs": [],
   "source": [
    "# takes string, and returns array of ints\n",
    "def encodeString(string, length):\n",
    "    arr = np.zeros((length,), dtype=\"int8\")\n",
    "    arr[0:len(string)] = [ord(char) for char in string]\n",
    "    return arr\n",
    "\n",
    "# we get a simulated bit array by using a int array\n",
    "# return array of 1 or 0 [arr[0][0], arr[0][]]\n",
    "def toBitArray(arr):\n",
    "    message_num = arr\n",
    "\n",
    "    length = len(arr);   # max length of message\n",
    "\n",
    "    bits = np.zeros(length*8,dtype=\"int8\") # allow bits to hold length of bytes, but also to be divided into 3 for RGB \n",
    "\n",
    "    for i in range(length): # loop through char of message\n",
    "        integer = 0\n",
    "        if i<len(message):\n",
    "            integer = ord(message[i])\n",
    "        bits[i*8]= ((integer)&1)\n",
    "        integer = integer>>1\n",
    "        bits[i*8+1]= (integer&1)\n",
    "        integer = integer>>1\n",
    "        bits[i*8+2]= (integer&1)\n",
    "        integer = integer>>1\n",
    "        bits[i*8+3]= (integer&1)\n",
    "        integer = integer>>1\n",
    "        bits[i*8+4]= (integer&1)\n",
    "        integer = integer>>1\n",
    "        bits[i*8+5]= (integer&1)\n",
    "        integer = integer>>1\n",
    "        bits[i*8+6]= (integer&1)\n",
    "        integer = integer>>1\n",
    "        bits[i*8+7]= (integer&1)\n",
    "    return bits"
   ]
  },
  {
   "cell_type": "markdown",
   "metadata": {},
   "source": [
    "#### Decode Data"
   ]
  },
  {
   "cell_type": "code",
   "execution_count": 12,
   "metadata": {},
   "outputs": [],
   "source": [
    "# Takes array of ints and returns string\n",
    "def decodeString(array, length):\n",
    "    string = ''.join([chr(integer) for integer in array])\n",
    "    string = ''.join([string,(chr(0)*(len(array)-length))])\n",
    "    return string\n",
    "\n",
    "# bit array to integer array\n",
    "def fromBitArray(b):\n",
    "    length = int(len(b)/8);   # max length of message\n",
    "\n",
    "    ints = np.zeros(length,dtype=\"int8\") # allow bits to hold length of bytes, but also to be divided into 3 for RGB \n",
    "\n",
    "    for i in range(length): # loop through char of message\n",
    "        ints[i]=((b[0+i*8]<<0)+\n",
    "                (b[1+i*8]<<1)+\n",
    "                (b[2+i*8]<<2)+\n",
    "                (b[3+i*8]<<3)+\n",
    "                (b[4+i*8]<<4)+\n",
    "                (b[5+i*8]<<5)+\n",
    "                (b[6+i*8]<<6)+\n",
    "                (b[7+i*8]<<7))\n",
    "    return ints "
   ]
  },
  {
   "cell_type": "markdown",
   "metadata": {},
   "source": [
    "### Image Processing"
   ]
  },
  {
   "cell_type": "markdown",
   "metadata": {},
   "source": [
    "#### Encode data to image\n",
    "    "
   ]
  },
  {
   "cell_type": "code",
   "execution_count": 13,
   "metadata": {},
   "outputs": [],
   "source": [
    "# returns data from LSB of image in left to right pixel and pixel channels\n",
    "def extractData(image, row, col, length):\n",
    "    extractedData = np.zeros(length*8, dtype=\"int8\")\n",
    "    for i in range(8*length):\n",
    "        extractedData[i]=1&image[row,col+int(i/3), i%3]\n",
    "        \n",
    "    return extractedData\n",
    "\n",
    "def insertData(image, data, row, col, length):\n",
    "    for i in range(len(data)):\n",
    "        image[row,col+int(i/3), i%3]=1&data[i]\n",
    "        \n",
    "    return image"
   ]
  },
  {
   "cell_type": "markdown",
   "metadata": {},
   "source": [
    "#### Extract data from image\n",
    "# takes image and row and column of starting point and length of data\n",
    "# return extracted image"
   ]
  },
  {
   "cell_type": "code",
   "execution_count": 14,
   "metadata": {},
   "outputs": [],
   "source": [
    "# returns data from LSB of image in left to right pixel and pixel channels\n",
    "def extractData(image, row, col, length):\n",
    "    extractedData = np.zeros(length*8, dtype=\"int8\")\n",
    "    for i in range(8*length):\n",
    "        extractedData[i]=1&image[row,col+int(i/3), i%3]\n",
    "        \n",
    "    return extractedData\n",
    "\n",
    "    \n",
    "# p[ i, j, c]... with p = pixel, i = row, j=starting column, c=channel (0=r, 1=g, 2=b), n=length\n",
    "# return [[i, j, 0], [i, j, 1], [i, j, 2], [i, j+1, 0], [i, j+1, 1], [i, j+1, 2]... [i, j+ceiling(n/3), 2]]\n",
    "def extractImage(image, row, col, dataLength):\n",
    "    return image[row:row+1, col: col + math.ceil(length/3), :]"
   ]
  },
  {
   "cell_type": "markdown",
   "metadata": {},
   "source": [
    "### Main\n",
    "Example of using the library"
   ]
  },
  {
   "cell_type": "code",
   "execution_count": 15,
   "metadata": {},
   "outputs": [],
   "source": [
    "import numpy as np\n",
    "import cv2\n",
    "from matplotlib import pyplot as plt\n",
    "import math"
   ]
  },
  {
   "cell_type": "markdown",
   "metadata": {},
   "source": [
    "### Tests"
   ]
  },
  {
   "cell_type": "markdown",
   "metadata": {},
   "source": [
    "#### Encode and Decode Data"
   ]
  },
  {
   "cell_type": "code",
   "execution_count": 16,
   "metadata": {},
   "outputs": [
    {
     "name": "stdout",
     "output_type": "stream",
     "text": [
      "TEST (message equal decodedMessage with '\\x00' removed):\n",
      "  True\n"
     ]
    }
   ],
   "source": [
    "## Test encode data and then decoding the data\n",
    "message = \"hello world\"\n",
    "\n",
    "encodedString = encodeString(message, 19)\n",
    "decodedString = decodeString(encodedString, 19)\n",
    "\n",
    "print(\"TEST (message equal decodedMessage with '\\\\x00' removed):\\n \",decodedString.replace(chr(0),'') == message)"
   ]
  },
  {
   "cell_type": "markdown",
   "metadata": {},
   "source": [
    "#### Insert encoded and extract decoded Data from Image"
   ]
  },
  {
   "cell_type": "markdown",
   "metadata": {},
   "source": [
    "#### Target Image\n",
    "Image for hiding data  \n",
    "<img src=\"/image.jpeg\" width=\"200px\"></img>"
   ]
  },
  {
   "cell_type": "code",
   "execution_count": 17,
   "metadata": {},
   "outputs": [
    {
     "data": {
      "text/plain": [
       "'hello world\\x00\\x00\\x00\\x00\\x00\\x00\\x00\\x00'"
      ]
     },
     "execution_count": 17,
     "metadata": {},
     "output_type": "execute_result"
    }
   ],
   "source": [
    "#Import image\n",
    "image = cv2.imread(\"image.jpeg\")\n",
    "image = cv2.cvtColor(image, cv2.COLOR_BGR2RGB) # convert image to RGB\n",
    "\n",
    "# Data to hide\n",
    "message = \"hello world\"\n",
    "\n",
    "# Encode data\n",
    "encodedString = encodeString(message, 19)\n",
    "dataB = toBitArray(encodedString)\n",
    "\n",
    "# Insert encoded data into image\n",
    "image = insertData(image, dataB, 5,0,19)\n",
    "\n",
    "\n",
    "# Extract Data\n",
    "data = extractData(image, 5,0,19)\n",
    "\n",
    "dataE = fromBitArray(data)\n",
    "\n",
    "decodeString(dataE, 19)"
   ]
  }
 ],
 "metadata": {
  "kernelspec": {
   "display_name": "Python 3",
   "language": "python",
   "name": "python3"
  },
  "language_info": {
   "codemirror_mode": {
    "name": "ipython",
    "version": 3
   },
   "file_extension": ".py",
   "mimetype": "text/x-python",
   "name": "python",
   "nbconvert_exporter": "python",
   "pygments_lexer": "ipython3",
   "version": "3.5.6"
  }
 },
 "nbformat": 4,
 "nbformat_minor": 2
}
